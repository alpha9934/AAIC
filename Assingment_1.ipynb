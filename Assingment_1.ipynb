{
  "nbformat": 4,
  "nbformat_minor": 0,
  "metadata": {
    "colab": {
      "name": "Assingment-1.ipynb",
      "provenance": [],
      "authorship_tag": "ABX9TyNB8zhSAvB0AnCCGrRmhVyJ",
      "include_colab_link": true
    },
    "kernelspec": {
      "name": "python3",
      "display_name": "Python 3"
    },
    "language_info": {
      "name": "python"
    }
  },
  "cells": [
    {
      "cell_type": "markdown",
      "metadata": {
        "id": "view-in-github",
        "colab_type": "text"
      },
      "source": [
        "<a href=\"https://colab.research.google.com/github/alpha9934/AAIC/blob/master/Assingment_1.ipynb\" target=\"_parent\"><img src=\"https://colab.research.google.com/assets/colab-badge.svg\" alt=\"Open In Colab\"/></a>"
      ]
    },
    {
      "cell_type": "markdown",
      "source": [
        "1.Write a Function to input a number and print multiplication Table of that number."
      ],
      "metadata": {
        "id": "1Oz6nSXq17Ae"
      }
    },
    {
      "cell_type": "code",
      "metadata": {
        "id": "PJcTkuGkJvrS",
        "colab": {
          "base_uri": "https://localhost:8080/"
        },
        "outputId": "4cd1be4e-8c80-45bc-a690-d96739de4bac"
      },
      "source": [
        "def table(num):\n",
        "  for i in range(0,11):\n",
        "    print(i,\"* \",num,\"=\",i*num)\n",
        "\n",
        "table(4)    "
      ],
      "execution_count": 3,
      "outputs": [
        {
          "output_type": "stream",
          "name": "stdout",
          "text": [
            "0 *  4 = 0\n",
            "1 *  4 = 4\n",
            "2 *  4 = 8\n",
            "3 *  4 = 12\n",
            "4 *  4 = 16\n",
            "5 *  4 = 20\n",
            "6 *  4 = 24\n",
            "7 *  4 = 28\n",
            "8 *  4 = 32\n",
            "9 *  4 = 36\n",
            "10 *  4 = 40\n"
          ]
        }
      ]
    },
    {
      "cell_type": "markdown",
      "source": [
        "2.print Twin primes numbers <1000."
      ],
      "metadata": {
        "id": "lDb_B_ey29hn"
      }
    },
    {
      "cell_type": "code",
      "source": [
        "if __name__=='__main__':\n",
        "  n=input(int())\n",
        "  print(\"the primes are:\")\n",
        "  "
      ],
      "metadata": {
        "colab": {
          "base_uri": "https://localhost:8080/"
        },
        "id": "rk3a5ukI3Phd",
        "outputId": "83b07c74-5355-45d5-9e89-1c58d3c6e6e2"
      },
      "execution_count": 19,
      "outputs": [
        {
          "output_type": "stream",
          "name": "stdout",
          "text": [
            "Please enter the number:100\n",
            "False\n"
          ]
        }
      ]
    }
  ]
}